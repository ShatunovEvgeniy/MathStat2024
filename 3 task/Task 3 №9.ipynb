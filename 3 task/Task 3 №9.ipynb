{
 "cells": [
  {
   "cell_type": "code",
   "execution_count": 2,
   "id": "d5b23e38",
   "metadata": {},
   "outputs": [
    {
     "name": "stderr",
     "output_type": "stream",
     "text": [
      "/usr/lib/python3/dist-packages/scipy/__init__.py:146: UserWarning: A NumPy version >=1.17.3 and <1.25.0 is required for this version of SciPy (detected version 1.25.2\n",
      "  warnings.warn(f\"A NumPy version >={np_minversion} and <{np_maxversion}\"\n"
     ]
    }
   ],
   "source": [
    "import numpy as np\n",
    "from scipy.stats import chi2\n",
    "from scipy.stats import norm\n",
    "import matplotlib.pyplot as plt\n",
    "import scipy.integrate as integrate\n",
    "import scipy.special as special\n",
    "from scipy.stats import norm\n",
    "from scipy.optimize import minimize\n",
    "from tqdm.notebook import tqdm\n",
    "from statsmodels.distributions.empirical_distribution import ECDF\n",
    "from scipy import stats\n",
    "from sklearn.utils import resample"
   ]
  },
  {
   "cell_type": "markdown",
   "id": "da6a1ba5",
   "metadata": {},
   "source": [
    "# Пункт А"
   ]
  },
  {
   "cell_type": "code",
   "execution_count": 3,
   "id": "62544636",
   "metadata": {},
   "outputs": [],
   "source": [
    "arr = np.array([5, 8, 6, 12, 14, 18, 11, 6, 13, 7])\n",
    "n = np.sum(arr)\n",
    "values = np.array([i for i in range(10)])"
   ]
  },
  {
   "cell_type": "code",
   "execution_count": 4,
   "id": "2a09e7cd",
   "metadata": {},
   "outputs": [],
   "source": [
    "def prefix_sum(x):\n",
    "    for i in range(1, 10):\n",
    "        x[i] += x[i-1]\n",
    "    return x\n",
    "\n",
    "y_uniform = values/9\n",
    "y_prefix = prefix_sum(arr / 100)"
   ]
  },
  {
   "cell_type": "code",
   "execution_count": 6,
   "id": "531b6b42",
   "metadata": {},
   "outputs": [
    {
     "name": "stdout",
     "output_type": "stream",
     "text": [
      "delta~ = 1.4333333333333331\n",
      "p-value = 0.03348\n"
     ]
    },
    {
     "data": {
      "image/png": "[encoded data removed]",
      "text/plain": [
       "<Figure size 432x288 with 1 Axes>"
      ]
     },
     "metadata": {
      "needs_background": "light"
     },
     "output_type": "display_data"
    }
   ],
   "source": [
    "plt.axis([0, 9, 0, 1])\n",
    "plt.title('F(x)')\n",
    "\n",
    "plt.plot(values, y_uniform)\n",
    "plt.step(values, y_prefix, where='post')\n",
    "    \n",
    "arr_delta1 = np.abs(y_uniform - y_prefix)\n",
    "arr_delta2 = np.zeros_like(arr_delta1)\n",
    "arr_delta2[1:] = abs(y_uniform[1:10] - y_prefix[0:9])\n",
    "sup1 = max(arr_delta1)\n",
    "sup2 = max(arr_delta2)\n",
    "sup = max(sup1, sup2)\n",
    "print(\"delta~ =\", np.sqrt(n) * sup)\n",
    "\n",
    "print(\"p-value = 0.03348\")  # From Kolmogorov table"
   ]
  },
  {
   "cell_type": "markdown",
   "id": "db53de5a",
   "metadata": {},
   "source": [
    "# Пункт Б"
   ]
  },
  {
   "cell_type": "code",
   "execution_count": 7,
   "id": "2d054a55",
   "metadata": {},
   "outputs": [],
   "source": [
    "intervals = [(0, 1), (1, 2), (2, 3), (3, 4), (4, 5), (5, 6), (6, 7), (7, 8), (8, 9), (9, 10)]\n",
    "counts = [5, 8, 6, 12, 14, 18, 11, 6, 13, 7]"
   ]
  },
  {
   "cell_type": "code",
   "execution_count": 8,
   "id": "37d2145a",
   "metadata": {},
   "outputs": [
    {
     "name": "stdout",
     "output_type": "stream",
     "text": [
      "[0.5, 0.5, 0.5, 0.5, 0.5, 1.5, 1.5, 1.5, 1.5, 1.5, 1.5, 1.5, 1.5, 2.5, 2.5, 2.5, 2.5, 2.5, 2.5, 3.5, 3.5, 3.5, 3.5, 3.5, 3.5, 3.5, 3.5, 3.5, 3.5, 3.5, 3.5, 4.5, 4.5, 4.5, 4.5, 4.5, 4.5, 4.5, 4.5, 4.5, 4.5, 4.5, 4.5, 4.5, 4.5, 5.5, 5.5, 5.5, 5.5, 5.5, 5.5, 5.5, 5.5, 5.5, 5.5, 5.5, 5.5, 5.5, 5.5, 5.5, 5.5, 5.5, 5.5, 6.5, 6.5, 6.5, 6.5, 6.5, 6.5, 6.5, 6.5, 6.5, 6.5, 6.5, 7.5, 7.5, 7.5, 7.5, 7.5, 7.5, 8.5, 8.5, 8.5, 8.5, 8.5, 8.5, 8.5, 8.5, 8.5, 8.5, 8.5, 8.5, 8.5, 9.5, 9.5, 9.5, 9.5, 9.5, 9.5, 9.5]\n"
     ]
    }
   ],
   "source": [
    "data = []\n",
    "for (start, end), count in zip(intervals, counts):\n",
    "    midpoint = (start + end) / 2\n",
    "    data.extend([midpoint] * count)\n",
    "\n",
    "print(data)"
   ]
  },
  {
   "cell_type": "code",
   "execution_count": 9,
   "id": "01fd11c5",
   "metadata": {},
   "outputs": [],
   "source": [
    "initial_params = [np.mean(data), np.std(data)]"
   ]
  },
  {
   "cell_type": "code",
   "execution_count": 10,
   "id": "546e79cd",
   "metadata": {},
   "outputs": [],
   "source": [
    "def likelihood(params):\n",
    "    mu, sigma = params[0], params[1]\n",
    "    if sigma <= 0:\n",
    "        return np.inf\n",
    "    return -np.sum(norm.logpdf(data, mu, sigma))"
   ]
  },
  {
   "cell_type": "code",
   "execution_count": 11,
   "id": "ad262ee4",
   "metadata": {},
   "outputs": [
    {
     "name": "stdout",
     "output_type": "stream",
     "text": [
      "Estimation of mu: 5.27\n",
      "Estimation of sigma: 2.505414137423193\n"
     ]
    }
   ],
   "source": [
    "result = minimize(likelihood, initial_params, method='L-BFGS-B', bounds=[(-np.inf, np.inf), (0, np.inf)])\n",
    "\n",
    "mu, sigma = result.x\n",
    "print(f'Estimation of mu: {mu}')\n",
    "print(f'Estimation of sigma: {sigma}')"
   ]
  },
  {
   "cell_type": "code",
   "execution_count": 12,
   "id": "dfb05657",
   "metadata": {},
   "outputs": [
    {
     "name": "stdout",
     "output_type": "stream",
     "text": [
      "Probabilities * n: [0.04416168 0.05175522 0.08654102 0.1236538  0.1509787  0.15752502\n",
      " 0.1404461  0.10700263 0.06966263 0.06827321]\n"
     ]
    }
   ],
   "source": [
    "def f(x):\n",
    "    global sigma, mu\n",
    "    return norm.pdf(x, mu, sigma)\n",
    "\n",
    "integral_intervals = [-np.inf, 1, 2, 3, 4, 5, 6, 7, 8, 9, np.inf]\n",
    "p = np.array([integrate.quad(f, integral_intervals[i-1], integral_intervals[i])[0] for i in range(1, 11)])\n",
    "print(f\"Probabilities * n: {p}\")"
   ]
  },
  {
   "cell_type": "code",
   "execution_count": 13,
   "id": "172a0348",
   "metadata": {},
   "outputs": [
    {
     "name": "stdout",
     "output_type": "stream",
     "text": [
      "delta~ = 10.798973140500925\n"
     ]
    }
   ],
   "source": [
    "delta = np.sum((counts - p * n) ** 2 / (p * n))\n",
    "print(\"delta~ =\", delta)"
   ]
  },
  {
   "cell_type": "code",
   "execution_count": 78,
   "id": "a5cf153b",
   "metadata": {},
   "outputs": [
    {
     "name": "stdout",
     "output_type": "stream",
     "text": [
      "p-value = 0.8620594332422423\n"
     ]
    }
   ],
   "source": [
    "def f(x):\n",
    "    return chi2.pdf(x, 7)\n",
    "\n",
    "answer = integrate.quad(f, delta, np.inf)[0]\n",
    "print(f\"p-value = {answer}\")"
   ]
  },
  {
   "cell_type": "markdown",
   "id": "dfde7352",
   "metadata": {},
   "source": [
    "# Bootstrap"
   ]
  },
  {
   "cell_type": "code",
   "execution_count": 81,
   "id": "f9df6aac",
   "metadata": {},
   "outputs": [],
   "source": [
    "data = np.array(([0] * 5 + [1] * 8 + [2] * 6 + [3] * 12 + [4] * 14 + [5] * 18 + [6] * 11 + [7] * 6 + [8] * 13 + [9] * 7))\n",
    "N = len(data)"
   ]
  },
  {
   "cell_type": "code",
   "execution_count": 82,
   "id": "6387e311",
   "metadata": {},
   "outputs": [],
   "source": [
    "# ~F(x) - emperical fuction\n",
    "counts = np.array([np.count_nonzero(data == i) for i in range(10)])\n",
    "probabilities = counts / counts.sum()\n",
    "F_ = np.cumsum(probabilities)"
   ]
  },
  {
   "cell_type": "code",
   "execution_count": 83,
   "id": "9d74a778",
   "metadata": {},
   "outputs": [],
   "source": [
    "values = [0, 1, 2, 3, 4, 5, 6, 7, 8, 9]\n",
    "F = norm.cdf(values, mu, sigma)"
   ]
  },
  {
   "cell_type": "code",
   "execution_count": 84,
   "id": "02e7b0bc",
   "metadata": {},
   "outputs": [
    {
     "name": "stdout",
     "output_type": "stream",
     "text": [
      "Delta = 3.2388828767538627\n"
     ]
    }
   ],
   "source": [
    "arr_delta1 = np.abs(F_ - F)\n",
    "arr_delta2 = np.zeros_like(arr_delta1)\n",
    "arr_delta2[1:] = abs(F_[1:10] - F[0:9])\n",
    "sup1 = max(arr_delta1)\n",
    "sup2 = max(arr_delta2)\n",
    "sup = max(sup1, sup2)\n",
    "\n",
    "delta = np.sqrt(n) * sup\n",
    "print(\"Delta =\", np.sqrt(n) * sup)"
   ]
  },
  {
   "cell_type": "code",
   "execution_count": 90,
   "id": "abdc45ed",
   "metadata": {},
   "outputs": [
    {
     "name": "stdout",
     "output_type": "stream",
     "text": [
      "p-value = 0.50282\n"
     ]
    }
   ],
   "source": [
    "# Bootstrap\n",
    "B = 100000  # Number of bootstrap samples\n",
    "bootstrap_arr = []\n",
    "N_ = len(data)\n",
    "for _ in range(B):\n",
    "    sample = resample(data, replace = True)\n",
    "    counts = np.array([np.count_nonzero(sample == i) for i in range(10)])\n",
    "    probabilities = counts / counts.sum()\n",
    "    F_ = np.cumsum(probabilities)\n",
    "    arr_delta1 = np.abs(F_ - F)\n",
    "    arr_delta2 = np.zeros_like(arr_delta1)\n",
    "    arr_delta2[1:] = abs(F_[1:10] - F[0:9])\n",
    "    sup1 = max(arr_delta1)\n",
    "    sup2 = max(arr_delta2)\n",
    "    sup = max(sup1, sup2)\n",
    "    bootstrap_arr.append(np.sqrt(n) * sup)\n",
    "    \n",
    "lenght = len([x for x in bootstrap_arr if x <= delta]) \n",
    "p_value = lenght / B\n",
    "print(f\"p-value = {p_value}\")"
   ]
  },
  {
   "cell_type": "code",
   "execution_count": 91,
   "id": "2dc8b34f",
   "metadata": {},
   "outputs": [],
   "source": [
    "# # Bootstrap\n",
    "# B = 100000  # Number of bootstrap samples\n",
    "# bootstrap_samples = np.random.choice(data, (B, n), replace=True)\n",
    "\n",
    "# counts = np.array([np.count_nonzero(bootstrap_samples[:] == i, axis=1) for i in range(10)]).T\n",
    "# probabilities = counts / n\n",
    "# F_ = np.cumsum(probabilities, axis=1)\n",
    "\n",
    "# print(F_.shape)\n",
    "# # F = np.repeat(F, B, axis=1)\n",
    "# print(F.shape)\n",
    "\n",
    "# arr_delta1 = np.abs(F_ - F)\n",
    "# arr_delta2 = np.zeros_like(arr_delta1)\n",
    "# F_shifted = np.roll(F, shift=-1)\n",
    "# print(F)\n",
    "# print(F_shifted)\n",
    "# print(F[1:])\n",
    "# arr_delta2 = np.abs(F_ - F_shifted)\n",
    "# sup1 = np.max(arr_delta1, axis=1)\n",
    "# sup2 = np.max(arr_delta2, axis=1)\n",
    "# print(sup1)\n",
    "# sup = np.sqrt(n) * np.max(sup1, sup2)\n",
    "\n",
    "\n",
    "# length = sum(sup[sup <= delta])\n",
    "# p_value = length / B\n",
    "# print(f\"p-value = {p_value}\")"
   ]
  },
  {
   "cell_type": "code",
   "execution_count": null,
   "id": "19a626bf",
   "metadata": {},
   "outputs": [],
   "source": []
  }
 ],
 "metadata": {
  "kernelspec": {
   "display_name": "Python 3 (ipykernel)",
   "language": "python",
   "name": "python3"
  },
  "language_info": {
   "codemirror_mode": {
    "name": "ipython",
    "version": 3
   },
   "file_extension": ".py",
   "mimetype": "text/x-python",
   "name": "python",
   "nbconvert_exporter": "python",
   "pygments_lexer": "ipython3",
   "version": "3.10.12"
  }
 },
 "nbformat": 4,
 "nbformat_minor": 5
}
