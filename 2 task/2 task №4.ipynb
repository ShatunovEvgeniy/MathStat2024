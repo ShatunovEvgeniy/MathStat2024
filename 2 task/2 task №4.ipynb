{
 "cells": [
  {
   "cell_type": "code",
   "execution_count": 14,
   "id": "87e41468",
   "metadata": {},
   "outputs": [],
   "source": [
    "import numpy as np\n",
    "import scipy.stats as stats"
   ]
  },
  {
   "cell_type": "code",
   "execution_count": 15,
   "id": "4704efad",
   "metadata": {},
   "outputs": [],
   "source": [
    "# Set the seed for reproducibility\n",
    "np.random.seed(0)\n",
    "\n",
    "# Generate a 100-size sample from a uniform distribution between 1 and 2\n",
    "n = 100\n",
    "sample = np.random.uniform(1, 2, n)  # etta = 1\n",
    "\n",
    "confidence = 0.95\n",
    "x1 = (1 - confidence) / 2\n",
    "x2 = (1 + confidence) / 2"
   ]
  },
  {
   "cell_type": "code",
   "execution_count": 16,
   "id": "543d6787",
   "metadata": {},
   "outputs": [
    {
     "name": "stdout",
     "output_type": "stream",
     "text": [
      "x_max =  1.9883738380592262\n"
     ]
    }
   ],
   "source": [
    "x_max = np.max(sample)\n",
    "print(\"x_max = \", x_max)"
   ]
  },
  {
   "cell_type": "code",
   "execution_count": 24,
   "id": "dbd578bd",
   "metadata": {},
   "outputs": [
    {
     "name": "stdout",
     "output_type": "stream",
     "text": [
      "Bootstrap 95% Confidence Interval for t: (0.9931, 0.9991)\n",
      "Length:  0.006\n"
     ]
    }
   ],
   "source": [
    "# Bootstrap resampling\n",
    "B = 100000  # Number of bootstrap samples\n",
    "bootstrap_samples = np.random.choice(sample, (B, n), replace=True)\n",
    "\n",
    "# Estimate of t is the minimum value of the distribution\n",
    "bootstrap_t_estimates = np.max(bootstrap_samples, axis=1) * ((n + 1) / (2 * n + 1))\n",
    "\n",
    "# Calculate mean and CI for t\n",
    "ci_lower_t = np.round(np.percentile(bootstrap_t_estimates, 2.5), 4)\n",
    "ci_upper_t = np.round(np.percentile(bootstrap_t_estimates, 97.5), 4)\n",
    "\n",
    "length_boot = np.round(ci_upper_t - ci_lower_t, 4)\n",
    "\n",
    "print(f'Bootstrap 95% Confidence Interval for t: ({ci_lower_t}, {ci_upper_t})')\n",
    "print(\"Length: \", length_boot)"
   ]
  },
  {
   "cell_type": "code",
   "execution_count": 18,
   "id": "701350f9",
   "metadata": {},
   "outputs": [
    {
     "name": "stdout",
     "output_type": "stream",
     "text": [
      "The exact confidence interval (95%): (0.9943, 1.0125)\n",
      "Length:  0.0182\n"
     ]
    }
   ],
   "source": [
    "h1 = np.round(x_max / (1 + (x2) ** (1 / n)), 4)\n",
    "h2 = np.round(x_max / (1 + (x1) ** (1 / n)), 4)\n",
    "confidence_interval = (h1, h2)\n",
    "length_exact = np.round(h2 - h1, 4)\n",
    "\n",
    "\n",
    "print(f\"The exact confidence interval (95%): {confidence_interval}\")\n",
    "print(\"Length: \", length_exact)"
   ]
  },
  {
   "cell_type": "code",
   "execution_count": 19,
   "id": "3f7b5a52",
   "metadata": {},
   "outputs": [
    {
     "name": "stdout",
     "output_type": "stream",
     "text": [
      "The approximate confidence interval (95%): (0.9442, 1.0195)\n",
      "Length:  0.0753\n"
     ]
    }
   ],
   "source": [
    "a2 = np.average(sample ** 2)\n",
    "a1 = np.average(sample)\n",
    "\n",
    "t1 = -1.96\n",
    "t2 = 1.96\n",
    "\n",
    "h1 = np.round(2/3 * (t1 * np.sqrt((a2 - a1**2) / n) + a1), 4)\n",
    "h2 = np.round(2/3 * (t2 * np.sqrt((a2 - a1**2) / n) + a1), 4)\n",
    "confidence_interval = (h1, h2)\n",
    "length_approx = np.round(h2 - h1, 4)\n",
    "\n",
    "print(f\"The approximate confidence interval (95%): {confidence_interval}\")\n",
    "print(\"Length: \", length_approx)"
   ]
  },
  {
   "cell_type": "code",
   "execution_count": 20,
   "id": "8c2c6dab",
   "metadata": {},
   "outputs": [
    {
     "data": {
      "text/html": [
       "<div>\n",
       "<style scoped>\n",
       "    .dataframe tbody tr th:only-of-type {\n",
       "        vertical-align: middle;\n",
       "    }\n",
       "\n",
       "    .dataframe tbody tr th {\n",
       "        vertical-align: top;\n",
       "    }\n",
       "\n",
       "    .dataframe thead th {\n",
       "        text-align: right;\n",
       "    }\n",
       "</style>\n",
       "<table border=\"1\" class=\"dataframe\">\n",
       "  <thead>\n",
       "    <tr style=\"text-align: right;\">\n",
       "      <th></th>\n",
       "      <th>Length</th>\n",
       "    </tr>\n",
       "  </thead>\n",
       "  <tbody>\n",
       "    <tr>\n",
       "      <th>Exact</th>\n",
       "      <td>0.0182</td>\n",
       "    </tr>\n",
       "    <tr>\n",
       "      <th>BootStrap</th>\n",
       "      <td>0.0060</td>\n",
       "    </tr>\n",
       "    <tr>\n",
       "      <th>Aproximate</th>\n",
       "      <td>0.0753</td>\n",
       "    </tr>\n",
       "  </tbody>\n",
       "</table>\n",
       "</div>"
      ],
      "text/plain": [
       "            Length\n",
       "Exact       0.0182\n",
       "BootStrap   0.0060\n",
       "Aproximate  0.0753"
      ]
     },
     "execution_count": 20,
     "metadata": {},
     "output_type": "execute_result"
    }
   ],
   "source": [
    "import pandas as pd\n",
    "\n",
    "numbers = [length_boot, length_exact, length_approx]\n",
    "numbers.sort()\n",
    "\n",
    "data = {\"Exact\": length_exact, \"BootStrap\": length_boot, \"Aproximate\": length_approx}\n",
    "df = pd.DataFrame(data, index=[\"Length\"]).T\n",
    "\n",
    "df"
   ]
  },
  {
   "cell_type": "code",
   "execution_count": null,
   "id": "5395b8db",
   "metadata": {},
   "outputs": [],
   "source": []
  }
 ],
 "metadata": {
  "kernelspec": {
   "display_name": "Python 3 (ipykernel)",
   "language": "python",
   "name": "python3"
  },
  "language_info": {
   "codemirror_mode": {
    "name": "ipython",
    "version": 3
   },
   "file_extension": ".py",
   "mimetype": "text/x-python",
   "name": "python",
   "nbconvert_exporter": "python",
   "pygments_lexer": "ipython3",
   "version": "3.10.12"
  }
 },
 "nbformat": 4,
 "nbformat_minor": 5
}
