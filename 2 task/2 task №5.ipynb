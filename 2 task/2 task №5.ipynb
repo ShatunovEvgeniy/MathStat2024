{
 "cells": [
  {
   "cell_type": "code",
   "execution_count": 2,
   "id": "33bff925",
   "metadata": {},
   "outputs": [
    {
     "name": "stderr",
     "output_type": "stream",
     "text": [
      "/usr/lib/python3/dist-packages/scipy/__init__.py:146: UserWarning: A NumPy version >=1.17.3 and <1.25.0 is required for this version of SciPy (detected version 1.25.2\n",
      "  warnings.warn(f\"A NumPy version >={np_minversion} and <{np_maxversion}\"\n"
     ]
    }
   ],
   "source": [
    "import numpy as np\n",
    "import scipy.stats as stats"
   ]
  },
  {
   "cell_type": "code",
   "execution_count": 3,
   "id": "eb8e0d00",
   "metadata": {},
   "outputs": [
    {
     "data": {
      "image/png": "[encoded data removed]",
      "text/plain": [
       "<Figure size 432x288 with 1 Axes>"
      ]
     },
     "metadata": {
      "needs_background": "light"
     },
     "output_type": "display_data"
    }
   ],
   "source": [
    "import numpy as np\n",
    "import matplotlib.pyplot as plt\n",
    "\n",
    "def my_density(x, etta):\n",
    "    # Define your own density function here\n",
    "    return (etta - 1) / x ** etta\n",
    "\n",
    "def my_function(x, etta):\n",
    "    # Define your own density function here\n",
    "    return x ** (1 - etta)\n",
    "\n",
    "# Generate x values\n",
    "x = np.linspace(1, 10, 1000)\n",
    "\n",
    "# Generate y values (density at each x)\n",
    "y = my_density(x, 2)\n",
    "\n",
    "# Create the plot\n",
    "plt.plot(x, y)\n",
    "plt.title('My Density Function')\n",
    "plt.xlabel('x')\n",
    "plt.ylabel('Density')\n",
    "plt.show()"
   ]
  },
  {
   "cell_type": "code",
   "execution_count": 4,
   "id": "db309e56",
   "metadata": {},
   "outputs": [],
   "source": [
    "# Generation of sample\n",
    "np.random.seed(0)\n",
    "etta = 2\n",
    "\n",
    "n = 100\n",
    "sample = np.random.uniform(0, 1, n)\n",
    "sample = (1 - sample) ** (1 / (1 - etta))\n",
    "\n",
    "confidence = 0.95\n",
    "x1 = (1 - confidence) / 2\n",
    "x2 = (1 + confidence) / 2"
   ]
  },
  {
   "cell_type": "code",
   "execution_count": 5,
   "id": "9e645b97",
   "metadata": {},
   "outputs": [
    {
     "data": {
      "text/plain": [
       "1.8778762919676302"
      ]
     },
     "execution_count": 5,
     "metadata": {},
     "output_type": "execute_result"
    }
   ],
   "source": [
    "med = np.median(sample)\n",
    "med"
   ]
  },
  {
   "cell_type": "code",
   "execution_count": 7,
   "id": "b5867565",
   "metadata": {},
   "outputs": [
    {
     "name": "stdout",
     "output_type": "stream",
     "text": [
      "Bootstrap 95% Confidence Interval for t: (1.8998, 2.3472)\n",
      "Length:  0.4474\n"
     ]
    }
   ],
   "source": [
    "# Bootstrap resampling parametric\n",
    "B = 100000  # Number of bootstrap samples\n",
    "bootstrap_samples = np.random.choice(sample, (B, n), replace=True)\n",
    "\n",
    "# Estimate of t is the minimum value of the distribution\n",
    "bootstrap_t_estimates = n / np.sum(np.log(bootstrap_samples), axis=1) + 1\n",
    "\n",
    "# Calculate mean and CI for t\n",
    "ci_lower_t = np.round(np.percentile(bootstrap_t_estimates, 2.5), 4)\n",
    "ci_upper_t = np.round(np.percentile(bootstrap_t_estimates, 97.5), 4)\n",
    "\n",
    "length_boot_param = np.round(ci_upper_t - ci_lower_t, 4)\n",
    "\n",
    "print(f'Bootstrap 95% Confidence Interval for t: ({ci_lower_t}, {ci_upper_t})')\n",
    "print(\"Length: \", length_boot_param)"
   ]
  },
  {
   "cell_type": "code",
   "execution_count": 12,
   "id": "c1f8a234",
   "metadata": {},
   "outputs": [
    {
     "name": "stdout",
     "output_type": "stream",
     "text": [
      "Bootstrap 95% Confidence Interval for t: (1.8313, 2.2785)\n",
      "Length:  0.4472\n"
     ]
    }
   ],
   "source": [
    "# Bootstrap resampling parametric\n",
    "B = 100000  # Number of bootstrap samples\n",
    "bootstrap_samples = np.random.choice(sample, (B, n), replace=True)\n",
    "\n",
    "est = n / np.sum(np.log(sample)) + 1\n",
    "\n",
    "# Estimate of t is the minimum value of the distribution\n",
    "bootstrap_t_estimates = n / np.sum(np.log(bootstrap_samples), axis=1) + 1 - est\n",
    "\n",
    "# Calculate mean and CI for t\n",
    "ci_upper_t = np.round(est - np.percentile(bootstrap_t_estimates, 2.5), 4)\n",
    "ci_lower_t = np.round(est - np.percentile(bootstrap_t_estimates, 97.5), 4)\n",
    "\n",
    "length_boot_not_param = np.round(ci_upper_t - ci_lower_t, 4)\n",
    "\n",
    "print(f'Bootstrap 95% Confidence Interval for t: ({ci_lower_t}, {ci_upper_t})')\n",
    "print(\"Length: \", length_boot_not_param)"
   ]
  },
  {
   "cell_type": "code",
   "execution_count": 13,
   "id": "f6bf35b2",
   "metadata": {},
   "outputs": [
    {
     "name": "stdout",
     "output_type": "stream",
     "text": [
      "The mediane confidence interval (95%): (1.6459, 2.1098)\n",
      "Length:  0.4639\n"
     ]
    }
   ],
   "source": [
    "t1 = -1.96\n",
    "t2 = 1.96\n",
    "\n",
    "\n",
    "h1 = np.round(med - t2 * (med * np.log(2) * np.log2(med)) / np.sqrt(n), 4)\n",
    "h2 = np.round(med - t1 * (med * np.log(2) * np.log2(med)) / np.sqrt(n), 4)\n",
    "confidence_interval = (h1, h2)\n",
    "length_med = np.round(h2 - h1, 4)\n",
    "\n",
    "\n",
    "print(f\"The mediane confidence interval (95%): {confidence_interval}\")\n",
    "print(\"Length: \", length_med)"
   ]
  },
  {
   "cell_type": "code",
   "execution_count": 14,
   "id": "9a1afcd4",
   "metadata": {},
   "outputs": [
    {
     "name": "stdout",
     "output_type": "stream",
     "text": [
      "The approximate confidence interval (95%): (1.8752, 2.3019)\n",
      "Length:  0.4267\n"
     ]
    }
   ],
   "source": [
    "t1 = -1.96\n",
    "t2 = 1.96\n",
    "\n",
    "est = n / np.sum(np.log(sample)) + 1\n",
    "\n",
    "h1 = np.round(est - t2 * (est - 1) / np.sqrt(n), 4)\n",
    "h2 = np.round(est - t1 * (est - 1) / np.sqrt(n), 4)\n",
    "confidence_interval = (h1, h2)\n",
    "length_approx = np.round(h2 - h1, 4)\n",
    "\n",
    "print(f\"The approximate confidence interval (95%): {confidence_interval}\")\n",
    "print(\"Length: \", length_approx)"
   ]
  },
  {
   "cell_type": "code",
   "execution_count": 15,
   "id": "7d0ca7f4",
   "metadata": {},
   "outputs": [
    {
     "data": {
      "text/html": [
       "<div>\n",
       "<style scoped>\n",
       "    .dataframe tbody tr th:only-of-type {\n",
       "        vertical-align: middle;\n",
       "    }\n",
       "\n",
       "    .dataframe tbody tr th {\n",
       "        vertical-align: top;\n",
       "    }\n",
       "\n",
       "    .dataframe thead th {\n",
       "        text-align: right;\n",
       "    }\n",
       "</style>\n",
       "<table border=\"1\" class=\"dataframe\">\n",
       "  <thead>\n",
       "    <tr style=\"text-align: right;\">\n",
       "      <th></th>\n",
       "      <th>Length</th>\n",
       "    </tr>\n",
       "  </thead>\n",
       "  <tbody>\n",
       "    <tr>\n",
       "      <th>BootStrap param</th>\n",
       "      <td>0.4474</td>\n",
       "    </tr>\n",
       "    <tr>\n",
       "      <th>BootStrap non param</th>\n",
       "      <td>0.4472</td>\n",
       "    </tr>\n",
       "    <tr>\n",
       "      <th>Aproximate</th>\n",
       "      <td>0.4267</td>\n",
       "    </tr>\n",
       "  </tbody>\n",
       "</table>\n",
       "</div>"
      ],
      "text/plain": [
       "                     Length\n",
       "BootStrap param      0.4474\n",
       "BootStrap non param  0.4472\n",
       "Aproximate           0.4267"
      ]
     },
     "execution_count": 15,
     "metadata": {},
     "output_type": "execute_result"
    }
   ],
   "source": [
    "import pandas as pd\n",
    "\n",
    "data = {\"BootStrap param\": length_boot_param, \"BootStrap non param\": length_boot_not_param, \"Aproximate\": length_approx}\n",
    "df = pd.DataFrame(data, index=[\"Length\"]).T\n",
    "\n",
    "df"
   ]
  }
 ],
 "metadata": {
  "kernelspec": {
   "display_name": "Python 3 (ipykernel)",
   "language": "python",
   "name": "python3"
  },
  "language_info": {
   "codemirror_mode": {
    "name": "ipython",
    "version": 3
   },
   "file_extension": ".py",
   "mimetype": "text/x-python",
   "name": "python",
   "nbconvert_exporter": "python",
   "pygments_lexer": "ipython3",
   "version": "3.10.12"
  }
 },
 "nbformat": 4,
 "nbformat_minor": 5
}
